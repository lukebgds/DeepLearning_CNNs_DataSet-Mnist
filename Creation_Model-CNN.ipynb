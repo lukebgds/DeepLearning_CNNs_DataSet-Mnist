{
 "cells": [
  {
   "cell_type": "markdown",
   "id": "40da22a7-fbef-445a-b43f-cae0673e3fbe",
   "metadata": {},
   "source": [
    "## Imports"
   ]
  },
  {
   "cell_type": "code",
   "execution_count": 1,
   "id": "9e97de10-5d26-4b10-85ac-5d3d8578471b",
   "metadata": {},
   "outputs": [],
   "source": [
    "import pickle\n",
    "import tensorflow as tf\n",
    "import matplotlib.pyplot as plt\n",
    "import matplotlib.ticker as mticker\n",
    "import pandas as pd\n",
    "import seaborn as sns\n",
    "import numpy as np\n",
    "from tensorflow.keras import layers, models, Input\n",
    "from tensorflow.keras.models import load_model\n",
    "from sklearn.metrics import confusion_matrix, accuracy_score, precision_score, recall_score, f1_score"
   ]
  },
  {
   "cell_type": "markdown",
   "id": "6e6c3112-3d03-4521-afa1-f0aba5593599",
   "metadata": {},
   "source": [
    "## 0. Carregar e Preprocessar o DataSet MNIST"
   ]
  },
  {
   "cell_type": "code",
   "execution_count": 2,
   "id": "43ef8be6-646a-4427-ba7a-fb190e9bfd88",
   "metadata": {},
   "outputs": [],
   "source": [
    "mnist = tf.keras.datasets.mnist\n",
    "(train_images, train_labels), (test_images, test_labels) = mnist.load_data()"
   ]
  },
  {
   "cell_type": "markdown",
   "id": "e08fb817-a067-45aa-a788-55e7ee31572c",
   "metadata": {},
   "source": [
    "# 1. Tratar as Imagens"
   ]
  },
  {
   "cell_type": "markdown",
   "id": "c6cf389e-888f-4d96-b7cb-3601fefda154",
   "metadata": {},
   "source": [
    "## 1.1 Normalizar as Imagens para o Intervalo [0, 1]"
   ]
  },
  {
   "cell_type": "markdown",
   "id": "bcc48be1-3da4-4e96-a9f4-b2b241fc6851",
   "metadata": {},
   "source": [
    "#### CÓDIGO:"
   ]
  },
  {
   "cell_type": "code",
   "execution_count": 3,
   "id": "343253ad-c225-4283-9f27-7f1b52ad6e8f",
   "metadata": {},
   "outputs": [],
   "source": [
    "train_images = train_images / 255.0\n",
    "test_images = test_images / 255.0"
   ]
  },
  {
   "cell_type": "markdown",
   "id": "5751fe73-968f-40a7-83c0-e3145a426874",
   "metadata": {
    "jp-MarkdownHeadingCollapsed": true
   },
   "source": [
    "#### EXPLICAÇÕES:"
   ]
  },
  {
   "cell_type": "markdown",
   "id": "d76ca27c-6793-4c53-a202-4f203b92fc93",
   "metadata": {},
   "source": [
    "##### **Normalização das Imagens**\n",
    "\n",
    "Antes de treinar um modelo de rede neural, é comum normalizar as imagens para garantir que os valores dos pixels estejam dentro de uma faixa padrão. Isso ajuda a melhorar a eficiência e a convergência do treinamento. A normalização é feita dividindo os valores dos pixels por 255, que é o valor máximo para um pixel em uma imagem com 8 bits.\n",
    "\n",
    "A divisão por `255.0` normaliza os valores para o intervalo [0, 1]. Assim, os valores de pixel são ajustados para uma faixa mais uniforme, facilitando o treinamento. Por exemplo:\n",
    "\n",
    "- Valor original do pixel: 128\n",
    "- Após normalização: 128 / 255.0 ≈ 0.502\n",
    "\n",
    "**Obs:** A conversão explícita dos valores para `float32` com `astype('float32')` pode ser realizada para garantir que os dados estejam no formato adequado para o processamento em alguns casos específicos. No entanto, essa conversão pode ser desnecessária, pois a divisão por `255.0` já converte os valores para o tipo de dado de ponto flutuante.\n",
    "\n",
    "Essa normalização ajusta os valores dos pixels para um formato que o modelo pode processar de maneira mais eficiente e estável.\n"
   ]
  },
  {
   "cell_type": "markdown",
   "id": "3e181653-c689-470a-a719-5c0d3ff4203a",
   "metadata": {},
   "source": [
    "## 1.2 Converter Rótulos para One-hot Encoding\n",
    "- **Observação**: Esta etapa é opcional se a `Função de Perda` for **`sparse_categorical_crossentropy`**, que aceita rótulos diretamente como números inteiros."
   ]
  },
  {
   "cell_type": "markdown",
   "id": "cad45995-58fb-4756-a13a-95b9f0e95f4b",
   "metadata": {
    "jp-MarkdownHeadingCollapsed": true
   },
   "source": [
    "#### CÓDIGO:"
   ]
  },
  {
   "cell_type": "code",
   "execution_count": null,
   "id": "561fba3f-4990-4c9f-8b96-84f839033449",
   "metadata": {},
   "outputs": [],
   "source": [
    "train_labels = tf.keras.utils.to_categorical(train_labels, 10)\n",
    "test_labels = tf.keras.utils.to_categorical(test_labels, 10)"
   ]
  },
  {
   "cell_type": "markdown",
   "id": "3f8abbc7-3340-4fad-9c08-0b4519a2da58",
   "metadata": {
    "jp-MarkdownHeadingCollapsed": true
   },
   "source": [
    "#### EXPLICAÇÕES:"
   ]
  },
  {
   "cell_type": "markdown",
   "id": "0ee42ab7-bc1b-4fb7-86bf-3b92264d4367",
   "metadata": {
    "jp-MarkdownHeadingCollapsed": true
   },
   "source": [
    "##### **One-Hot Encoding para Classificação**\n",
    "\n",
    "Em problemas de classificação, os rótulos das classes (ou labels) geralmente são representados como números inteiros, onde cada número corresponde a uma classe específica. No entanto, os modelos de machine learning, especialmente redes neurais, funcionam melhor quando esses rótulos são representados de maneira binária. É aqui que entra o **one-hot encoding**.\n",
    "\n",
    "##### **O que é One-Hot Encoding?**\n",
    "\n",
    "**One-hot encoding** é uma técnica de codificação que transforma uma categoria (classe) em um vetor binário. Esse vetor tem o mesmo comprimento que o número de classes totais e contém um único valor `1` no índice correspondente à classe correta, enquanto todos os outros valores são `0`.\n",
    "\n",
    "Por exemplo, se tivermos três classes possíveis (0, 1 e 2):\n",
    "- A classe `0` seria representada como `[1, 0, 0]`.\n",
    "- A classe `1` seria representada como `[0, 1, 0]`.\n",
    "- A classe `2` seria representada como `[0, 0, 1]`.\n",
    "\n",
    "##### **Por que usar One-Hot Encoding?**\n",
    "\n",
    "- **Facilita o treinamento**: Modelos como redes neurais precisam de rótulos em um formato que possa ser diretamente comparado com as saídas do modelo, que normalmente também são vetores de probabilidades. One-hot encoding facilita essa comparação.\n",
    "- **Evita hierarquias implícitas**: Sem one-hot encoding, se as classes fossem representadas por números inteiros (como 0, 1, 2...), o modelo poderia interpretar erroneamente que há uma ordem ou hierarquia entre as classes. One-hot encoding elimina essa ambiguidade, tratando todas as classes de forma equitativa.\n",
    "\n",
    "##### **Implementação em TensorFlow**\n",
    "\n",
    "Em TensorFlow, a função `tf.keras.utils.to_categorical` é utilizada para realizar a conversão dos rótulos em vetores binários (one-hot encoded). Se você tiver 10 classes diferentes, cada rótulo será transformado em um vetor de tamanho 10, onde apenas o índice correspondente à classe correta terá o valor `1`, e todos os outros índices terão o valor `0`.\n",
    "\n",
    "Por exemplo, se uma imagem pertence à classe `3` e há 10 classes no total, após a aplicação de one-hot encoding, o rótulo original `3` será convertido para `[0, 0, 0, 1, 0, 0, 0, 0, 0, 0]`.\n",
    "\n",
    "Esta representação é fundamental para a correta operação do modelo, especialmente ao calcular a perda e ajustar os pesos durante o treinamento.\n"
   ]
  },
  {
   "cell_type": "markdown",
   "id": "a4bed4e5-b003-49f2-a0ca-2c91f628e053",
   "metadata": {},
   "source": [
    "# 2. Definir a Arquitetura do Modelo"
   ]
  },
  {
   "cell_type": "markdown",
   "id": "845aa1d9-ecf0-402e-a227-e1d0ce412c80",
   "metadata": {},
   "source": [
    "#### CÓDIGO API: Sequential\n",
    "- Modelo Sequencial: Este modelo utiliza a API sequencial do Keras para construir uma arquitetura de rede neural convolucional com várias camadas. Ele não é ramificado, mas implementa técnicas para melhorar o desempenho e evitar overfitting, como Dropout. A seguir, a descrição detalhada do modelo:\n"
   ]
  },
  {
   "cell_type": "code",
   "execution_count": 4,
   "id": "d3424052-7c83-4857-9aeb-4e1ee5dc39d8",
   "metadata": {
    "scrolled": true
   },
   "outputs": [],
   "source": [
    "model = models.Sequential([\n",
    "    Input(shape=(28, 28, 1)),\n",
    "\n",
    "    layers.Conv2D(32, (3, 3), activation='relu', padding='same'),\n",
    "    layers.MaxPooling2D((2, 2)),\n",
    "\n",
    "    layers.Conv2D(64, (3, 3), activation='relu', padding='same'),\n",
    "    layers.MaxPooling2D((2, 2)),\n",
    "\n",
    "    layers.Conv2D(128, (3, 3), activation='relu', padding='same'),\n",
    "    layers.MaxPooling2D((2, 2)),\n",
    "\n",
    "    layers.Conv2D(128, (3, 3), activation='relu', padding='same'),\n",
    "\n",
    "    layers.Flatten(),\n",
    "\n",
    "    layers.Dense(128, activation='relu'),\n",
    "    layers.Dropout(0.4),\n",
    "\n",
    "    layers.Dense(10, activation='softmax')\n",
    "])"
   ]
  },
  {
   "cell_type": "markdown",
   "id": "efa8d601-9ee0-404e-8112-7a4e8a0183ca",
   "metadata": {
    "jp-MarkdownHeadingCollapsed": true
   },
   "source": [
    "#### EXPLICAÇÕES:"
   ]
  },
  {
   "cell_type": "markdown",
   "id": "bb6cdf52-bd6d-42de-bd37-53adadcf166f",
   "metadata": {
    "jp-MarkdownHeadingCollapsed": true
   },
   "source": [
    "##### **Arquitetura do Modelo**\n",
    "\n",
    "Este modelo é uma rede neural convolucional (CNN) avançada, projetada para a tarefa de classificação de imagens em um conjunto de dados de 10 classes. Ele foi desenvolvido com o objetivo de capturar e aprender padrões complexos nas imagens de entrada, usando uma combinação de camadas convolucionais, de pooling, normalização, regularização e camadas densas. A seguir, descrevemos em detalhes cada componente da arquitetura, os parâmetros utilizados e o impacto de cada escolha no desempenho do modelo.\n",
    "\n",
    "---\n",
    "\n",
    "##### 1. **Camada de Entrada**\n",
    "- **`Input(shape=(28, 28, 1))`**:\n",
    "  - **Função**: Define a forma dos dados que serão alimentados na rede. Este é o ponto de partida onde as imagens são inseridas no modelo para processamento.\n",
    "  - **Parâmetros**:\n",
    "    - **`shape=(28, 28, 1)`**: Especifica que cada imagem tem 28 pixels de altura, 28 pixels de largura e 1 canal (escala de cinza).\n",
    "  - **Detalhe**: Esta camada não realiza processamento, mas informa à rede sobre o formato dos dados de entrada. A configuração correta do `shape` é crucial para garantir que as operações subsequentes sejam aplicadas corretamente.\n",
    "\n",
    "---\n",
    "\n",
    "##### 2. **Camadas Convolucionais, de Pooling e BatchNormalization**\n",
    "Essas camadas formam o núcleo da arquitetura convolucional, responsáveis por extrair e processar características das imagens de entrada. Cada camada convolucional aplica filtros para detectar padrões específicos, como bordas, texturas ou formas. Em seguida, as camadas de pooling reduzem a dimensionalidade dos dados, enquanto a normalização em lote (`BatchNormalization`) estabiliza e acelera o treinamento.\n",
    "\n",
    "###### 2.1. **Primeira Ramificação**\n",
    "- **`Conv2D(32, (3,3), activation='relu', padding='same')`**:\n",
    "  - **Função**: Aplica uma operação de convolução 2D para detectar características como bordas e texturas.\n",
    "  - **Parâmetros**:\n",
    "    - **`32`**: Número de filtros que detectam diferentes padrões.\n",
    "    - **`(3,3)`**: Tamanho dos filtros, ideal para captar detalhes locais.\n",
    "    - **`activation='relu'`**: Introduz não-linearidade ao modelo, transformando valores negativos em zero.\n",
    "    - **`padding='same'`**: Mantém as dimensões espaciais da saída iguais às da entrada.\n",
    "\n",
    "- **`BatchNormalization()`**:\n",
    "  - **Função**: Normaliza as ativações da camada anterior, estabilizando o treinamento.\n",
    "  - **Detalhe**: Reduz a necessidade de ajustes manuais nos hiperparâmetros e acelera o treinamento.\n",
    "\n",
    "- **`MaxPooling2D((2,2))`**:\n",
    "  - **Função**: Reduz a dimensionalidade espacial, preservando as características mais importantes.\n",
    "  - **Parâmetros**:\n",
    "    - **`(2,2)`**: Tamanho da janela de pooling, reduzindo a altura e largura pela metade.\n",
    "\n",
    "- **`Dropout(0.35)`**:\n",
    "  - **Função**: Desativa aleatoriamente 35% dos neurônios durante o treinamento para evitar overfitting.\n",
    "\n",
    "###### 2.2. **Segunda Ramificação**\n",
    "- **`Conv2D(32, (5,5), activation='relu', padding='same')`**:\n",
    "  - **Função**: Semelhante à primeira ramificação, mas com filtros maiores (5x5), captando padrões em escalas maiores.\n",
    "\n",
    "- **Outras camadas**: Seguem o mesmo padrão da primeira ramificação, mas ajustadas para diferentes escalas.\n",
    "\n",
    "---\n",
    "\n",
    "##### 3. **Camada de Concatenação**\n",
    "- **`layers.concatenate([rami1_drop2, rami2_drop2])`**:\n",
    "  - **Função**: Junta as saídas das duas ramificações, combinando diferentes representações aprendidas.\n",
    "\n",
    "---\n",
    "\n",
    "##### 4. **Global Average Pooling**\n",
    "- **`GlobalAveragePooling2D()`**:\n",
    "  - **Função**: Calcula a média de cada mapa de características ao longo de sua dimensão espacial.\n",
    "  - **Detalhe**: Reduz o número de parâmetros, diminuindo o risco de overfitting.\n",
    "\n",
    "---\n",
    "\n",
    "##### 5. **Camadas Densas**\n",
    "As camadas densas combinam as características extraídas e aprendem a tomar decisões de classificação. \n",
    "\n",
    "- **`Dense(256, activation='relu', kernel_regularizer=regularizers.l2(0.001))`**:\n",
    "  - **Função**: Aplica uma transformação linear seguida de ativação ReLU.\n",
    "  - **Parâmetros**:\n",
    "    - **`256`**: Número de neurônios.\n",
    "    - **`activation='relu'`**: Introduz não-linearidade.\n",
    "    - **`kernel_regularizer=regularizers.l2(0.001)`**: Penaliza grandes valores de peso para evitar overfitting.\n",
    "\n",
    "- **`Dropout(0.5)`**: Desativa aleatoriamente 50% dos neurônios para maior regularização.\n",
    "\n",
    "---\n",
    "\n",
    "##### 6. **Camada de Saída**\n",
    "- **`Dense(10, activation='softmax')`**:\n",
    "  - **Função**: Transforma as saídas em probabilidades para classificação nas 10 classes.\n",
    "  - **Detalhe**: A função `softmax` garante que a soma das probabilidades seja igual a 1, permitindo interpretar a saída como probabilidades de cada classe.\n",
    "\n",
    "---\n",
    "\n",
    "##### **Resumo da Arquitetura**\n",
    "1. Camada de entrada define o formato dos dados.\n",
    "2. Ramificações convolucionais extraem características em diferentes escalas.\n",
    "3. Concatenação combina representações aprendidas.\n",
    "4. Pooling global reduz a dimensionalidade.\n",
    "5. Camadas densas sintetizam informações para classificação.\n",
    "6. Camada de saída fornece probabilidades das classes.\n"
   ]
  },
  {
   "cell_type": "markdown",
   "id": "6321dc1c-513c-4551-91f8-97e02a107ad7",
   "metadata": {},
   "source": [
    "## 2.1 Exibir Resumo da Arquitetura"
   ]
  },
  {
   "cell_type": "markdown",
   "id": "c69f069a-b092-418f-866a-1886087f3d8d",
   "metadata": {},
   "source": [
    "#### CÓDIGO:"
   ]
  },
  {
   "cell_type": "code",
   "execution_count": 5,
   "id": "a1ae06e7-722d-49a0-9e08-c845ea95e919",
   "metadata": {},
   "outputs": [
    {
     "data": {
      "text/html": [
       "<pre style=\"white-space:pre;overflow-x:auto;line-height:normal;font-family:Menlo,'DejaVu Sans Mono',consolas,'Courier New',monospace\"><span style=\"font-weight: bold\">Model: \"sequential\"</span>\n",
       "</pre>\n"
      ],
      "text/plain": [
       "\u001b[1mModel: \"sequential\"\u001b[0m\n"
      ]
     },
     "metadata": {},
     "output_type": "display_data"
    },
    {
     "data": {
      "text/html": [
       "<pre style=\"white-space:pre;overflow-x:auto;line-height:normal;font-family:Menlo,'DejaVu Sans Mono',consolas,'Courier New',monospace\">┏━━━━━━━━━━━━━━━━━━━━━━━━━━━━━━━━━━━━━━┳━━━━━━━━━━━━━━━━━━━━━━━━━━━━━┳━━━━━━━━━━━━━━━━━┓\n",
       "┃<span style=\"font-weight: bold\"> Layer (type)                         </span>┃<span style=\"font-weight: bold\"> Output Shape                </span>┃<span style=\"font-weight: bold\">         Param # </span>┃\n",
       "┡━━━━━━━━━━━━━━━━━━━━━━━━━━━━━━━━━━━━━━╇━━━━━━━━━━━━━━━━━━━━━━━━━━━━━╇━━━━━━━━━━━━━━━━━┩\n",
       "│ conv2d (<span style=\"color: #0087ff; text-decoration-color: #0087ff\">Conv2D</span>)                      │ (<span style=\"color: #00d7ff; text-decoration-color: #00d7ff\">None</span>, <span style=\"color: #00af00; text-decoration-color: #00af00\">28</span>, <span style=\"color: #00af00; text-decoration-color: #00af00\">28</span>, <span style=\"color: #00af00; text-decoration-color: #00af00\">32</span>)          │             <span style=\"color: #00af00; text-decoration-color: #00af00\">320</span> │\n",
       "├──────────────────────────────────────┼─────────────────────────────┼─────────────────┤\n",
       "│ max_pooling2d (<span style=\"color: #0087ff; text-decoration-color: #0087ff\">MaxPooling2D</span>)         │ (<span style=\"color: #00d7ff; text-decoration-color: #00d7ff\">None</span>, <span style=\"color: #00af00; text-decoration-color: #00af00\">14</span>, <span style=\"color: #00af00; text-decoration-color: #00af00\">14</span>, <span style=\"color: #00af00; text-decoration-color: #00af00\">32</span>)          │               <span style=\"color: #00af00; text-decoration-color: #00af00\">0</span> │\n",
       "├──────────────────────────────────────┼─────────────────────────────┼─────────────────┤\n",
       "│ conv2d_1 (<span style=\"color: #0087ff; text-decoration-color: #0087ff\">Conv2D</span>)                    │ (<span style=\"color: #00d7ff; text-decoration-color: #00d7ff\">None</span>, <span style=\"color: #00af00; text-decoration-color: #00af00\">14</span>, <span style=\"color: #00af00; text-decoration-color: #00af00\">14</span>, <span style=\"color: #00af00; text-decoration-color: #00af00\">64</span>)          │          <span style=\"color: #00af00; text-decoration-color: #00af00\">18,496</span> │\n",
       "├──────────────────────────────────────┼─────────────────────────────┼─────────────────┤\n",
       "│ max_pooling2d_1 (<span style=\"color: #0087ff; text-decoration-color: #0087ff\">MaxPooling2D</span>)       │ (<span style=\"color: #00d7ff; text-decoration-color: #00d7ff\">None</span>, <span style=\"color: #00af00; text-decoration-color: #00af00\">7</span>, <span style=\"color: #00af00; text-decoration-color: #00af00\">7</span>, <span style=\"color: #00af00; text-decoration-color: #00af00\">64</span>)            │               <span style=\"color: #00af00; text-decoration-color: #00af00\">0</span> │\n",
       "├──────────────────────────────────────┼─────────────────────────────┼─────────────────┤\n",
       "│ conv2d_2 (<span style=\"color: #0087ff; text-decoration-color: #0087ff\">Conv2D</span>)                    │ (<span style=\"color: #00d7ff; text-decoration-color: #00d7ff\">None</span>, <span style=\"color: #00af00; text-decoration-color: #00af00\">7</span>, <span style=\"color: #00af00; text-decoration-color: #00af00\">7</span>, <span style=\"color: #00af00; text-decoration-color: #00af00\">128</span>)           │          <span style=\"color: #00af00; text-decoration-color: #00af00\">73,856</span> │\n",
       "├──────────────────────────────────────┼─────────────────────────────┼─────────────────┤\n",
       "│ max_pooling2d_2 (<span style=\"color: #0087ff; text-decoration-color: #0087ff\">MaxPooling2D</span>)       │ (<span style=\"color: #00d7ff; text-decoration-color: #00d7ff\">None</span>, <span style=\"color: #00af00; text-decoration-color: #00af00\">3</span>, <span style=\"color: #00af00; text-decoration-color: #00af00\">3</span>, <span style=\"color: #00af00; text-decoration-color: #00af00\">128</span>)           │               <span style=\"color: #00af00; text-decoration-color: #00af00\">0</span> │\n",
       "├──────────────────────────────────────┼─────────────────────────────┼─────────────────┤\n",
       "│ conv2d_3 (<span style=\"color: #0087ff; text-decoration-color: #0087ff\">Conv2D</span>)                    │ (<span style=\"color: #00d7ff; text-decoration-color: #00d7ff\">None</span>, <span style=\"color: #00af00; text-decoration-color: #00af00\">3</span>, <span style=\"color: #00af00; text-decoration-color: #00af00\">3</span>, <span style=\"color: #00af00; text-decoration-color: #00af00\">128</span>)           │         <span style=\"color: #00af00; text-decoration-color: #00af00\">147,584</span> │\n",
       "├──────────────────────────────────────┼─────────────────────────────┼─────────────────┤\n",
       "│ flatten (<span style=\"color: #0087ff; text-decoration-color: #0087ff\">Flatten</span>)                    │ (<span style=\"color: #00d7ff; text-decoration-color: #00d7ff\">None</span>, <span style=\"color: #00af00; text-decoration-color: #00af00\">1152</span>)                │               <span style=\"color: #00af00; text-decoration-color: #00af00\">0</span> │\n",
       "├──────────────────────────────────────┼─────────────────────────────┼─────────────────┤\n",
       "│ dense (<span style=\"color: #0087ff; text-decoration-color: #0087ff\">Dense</span>)                        │ (<span style=\"color: #00d7ff; text-decoration-color: #00d7ff\">None</span>, <span style=\"color: #00af00; text-decoration-color: #00af00\">128</span>)                 │         <span style=\"color: #00af00; text-decoration-color: #00af00\">147,584</span> │\n",
       "├──────────────────────────────────────┼─────────────────────────────┼─────────────────┤\n",
       "│ dropout (<span style=\"color: #0087ff; text-decoration-color: #0087ff\">Dropout</span>)                    │ (<span style=\"color: #00d7ff; text-decoration-color: #00d7ff\">None</span>, <span style=\"color: #00af00; text-decoration-color: #00af00\">128</span>)                 │               <span style=\"color: #00af00; text-decoration-color: #00af00\">0</span> │\n",
       "├──────────────────────────────────────┼─────────────────────────────┼─────────────────┤\n",
       "│ dense_1 (<span style=\"color: #0087ff; text-decoration-color: #0087ff\">Dense</span>)                      │ (<span style=\"color: #00d7ff; text-decoration-color: #00d7ff\">None</span>, <span style=\"color: #00af00; text-decoration-color: #00af00\">10</span>)                  │           <span style=\"color: #00af00; text-decoration-color: #00af00\">1,290</span> │\n",
       "└──────────────────────────────────────┴─────────────────────────────┴─────────────────┘\n",
       "</pre>\n"
      ],
      "text/plain": [
       "┏━━━━━━━━━━━━━━━━━━━━━━━━━━━━━━━━━━━━━━┳━━━━━━━━━━━━━━━━━━━━━━━━━━━━━┳━━━━━━━━━━━━━━━━━┓\n",
       "┃\u001b[1m \u001b[0m\u001b[1mLayer (type)                        \u001b[0m\u001b[1m \u001b[0m┃\u001b[1m \u001b[0m\u001b[1mOutput Shape               \u001b[0m\u001b[1m \u001b[0m┃\u001b[1m \u001b[0m\u001b[1m        Param #\u001b[0m\u001b[1m \u001b[0m┃\n",
       "┡━━━━━━━━━━━━━━━━━━━━━━━━━━━━━━━━━━━━━━╇━━━━━━━━━━━━━━━━━━━━━━━━━━━━━╇━━━━━━━━━━━━━━━━━┩\n",
       "│ conv2d (\u001b[38;5;33mConv2D\u001b[0m)                      │ (\u001b[38;5;45mNone\u001b[0m, \u001b[38;5;34m28\u001b[0m, \u001b[38;5;34m28\u001b[0m, \u001b[38;5;34m32\u001b[0m)          │             \u001b[38;5;34m320\u001b[0m │\n",
       "├──────────────────────────────────────┼─────────────────────────────┼─────────────────┤\n",
       "│ max_pooling2d (\u001b[38;5;33mMaxPooling2D\u001b[0m)         │ (\u001b[38;5;45mNone\u001b[0m, \u001b[38;5;34m14\u001b[0m, \u001b[38;5;34m14\u001b[0m, \u001b[38;5;34m32\u001b[0m)          │               \u001b[38;5;34m0\u001b[0m │\n",
       "├──────────────────────────────────────┼─────────────────────────────┼─────────────────┤\n",
       "│ conv2d_1 (\u001b[38;5;33mConv2D\u001b[0m)                    │ (\u001b[38;5;45mNone\u001b[0m, \u001b[38;5;34m14\u001b[0m, \u001b[38;5;34m14\u001b[0m, \u001b[38;5;34m64\u001b[0m)          │          \u001b[38;5;34m18,496\u001b[0m │\n",
       "├──────────────────────────────────────┼─────────────────────────────┼─────────────────┤\n",
       "│ max_pooling2d_1 (\u001b[38;5;33mMaxPooling2D\u001b[0m)       │ (\u001b[38;5;45mNone\u001b[0m, \u001b[38;5;34m7\u001b[0m, \u001b[38;5;34m7\u001b[0m, \u001b[38;5;34m64\u001b[0m)            │               \u001b[38;5;34m0\u001b[0m │\n",
       "├──────────────────────────────────────┼─────────────────────────────┼─────────────────┤\n",
       "│ conv2d_2 (\u001b[38;5;33mConv2D\u001b[0m)                    │ (\u001b[38;5;45mNone\u001b[0m, \u001b[38;5;34m7\u001b[0m, \u001b[38;5;34m7\u001b[0m, \u001b[38;5;34m128\u001b[0m)           │          \u001b[38;5;34m73,856\u001b[0m │\n",
       "├──────────────────────────────────────┼─────────────────────────────┼─────────────────┤\n",
       "│ max_pooling2d_2 (\u001b[38;5;33mMaxPooling2D\u001b[0m)       │ (\u001b[38;5;45mNone\u001b[0m, \u001b[38;5;34m3\u001b[0m, \u001b[38;5;34m3\u001b[0m, \u001b[38;5;34m128\u001b[0m)           │               \u001b[38;5;34m0\u001b[0m │\n",
       "├──────────────────────────────────────┼─────────────────────────────┼─────────────────┤\n",
       "│ conv2d_3 (\u001b[38;5;33mConv2D\u001b[0m)                    │ (\u001b[38;5;45mNone\u001b[0m, \u001b[38;5;34m3\u001b[0m, \u001b[38;5;34m3\u001b[0m, \u001b[38;5;34m128\u001b[0m)           │         \u001b[38;5;34m147,584\u001b[0m │\n",
       "├──────────────────────────────────────┼─────────────────────────────┼─────────────────┤\n",
       "│ flatten (\u001b[38;5;33mFlatten\u001b[0m)                    │ (\u001b[38;5;45mNone\u001b[0m, \u001b[38;5;34m1152\u001b[0m)                │               \u001b[38;5;34m0\u001b[0m │\n",
       "├──────────────────────────────────────┼─────────────────────────────┼─────────────────┤\n",
       "│ dense (\u001b[38;5;33mDense\u001b[0m)                        │ (\u001b[38;5;45mNone\u001b[0m, \u001b[38;5;34m128\u001b[0m)                 │         \u001b[38;5;34m147,584\u001b[0m │\n",
       "├──────────────────────────────────────┼─────────────────────────────┼─────────────────┤\n",
       "│ dropout (\u001b[38;5;33mDropout\u001b[0m)                    │ (\u001b[38;5;45mNone\u001b[0m, \u001b[38;5;34m128\u001b[0m)                 │               \u001b[38;5;34m0\u001b[0m │\n",
       "├──────────────────────────────────────┼─────────────────────────────┼─────────────────┤\n",
       "│ dense_1 (\u001b[38;5;33mDense\u001b[0m)                      │ (\u001b[38;5;45mNone\u001b[0m, \u001b[38;5;34m10\u001b[0m)                  │           \u001b[38;5;34m1,290\u001b[0m │\n",
       "└──────────────────────────────────────┴─────────────────────────────┴─────────────────┘\n"
      ]
     },
     "metadata": {},
     "output_type": "display_data"
    },
    {
     "data": {
      "text/html": [
       "<pre style=\"white-space:pre;overflow-x:auto;line-height:normal;font-family:Menlo,'DejaVu Sans Mono',consolas,'Courier New',monospace\"><span style=\"font-weight: bold\"> Total params: </span><span style=\"color: #00af00; text-decoration-color: #00af00\">389,130</span> (1.48 MB)\n",
       "</pre>\n"
      ],
      "text/plain": [
       "\u001b[1m Total params: \u001b[0m\u001b[38;5;34m389,130\u001b[0m (1.48 MB)\n"
      ]
     },
     "metadata": {},
     "output_type": "display_data"
    },
    {
     "data": {
      "text/html": [
       "<pre style=\"white-space:pre;overflow-x:auto;line-height:normal;font-family:Menlo,'DejaVu Sans Mono',consolas,'Courier New',monospace\"><span style=\"font-weight: bold\"> Trainable params: </span><span style=\"color: #00af00; text-decoration-color: #00af00\">389,130</span> (1.48 MB)\n",
       "</pre>\n"
      ],
      "text/plain": [
       "\u001b[1m Trainable params: \u001b[0m\u001b[38;5;34m389,130\u001b[0m (1.48 MB)\n"
      ]
     },
     "metadata": {},
     "output_type": "display_data"
    },
    {
     "data": {
      "text/html": [
       "<pre style=\"white-space:pre;overflow-x:auto;line-height:normal;font-family:Menlo,'DejaVu Sans Mono',consolas,'Courier New',monospace\"><span style=\"font-weight: bold\"> Non-trainable params: </span><span style=\"color: #00af00; text-decoration-color: #00af00\">0</span> (0.00 B)\n",
       "</pre>\n"
      ],
      "text/plain": [
       "\u001b[1m Non-trainable params: \u001b[0m\u001b[38;5;34m0\u001b[0m (0.00 B)\n"
      ]
     },
     "metadata": {},
     "output_type": "display_data"
    }
   ],
   "source": [
    "model.summary()"
   ]
  },
  {
   "cell_type": "markdown",
   "id": "860a3983-9202-41a5-a93a-f7fd0869f23e",
   "metadata": {
    "jp-MarkdownHeadingCollapsed": true
   },
   "source": [
    "#### EXPLICAÇÕES:"
   ]
  },
  {
   "cell_type": "markdown",
   "id": "41acff3c-cc1e-4905-9449-24f5ad58fbd8",
   "metadata": {},
   "source": [
    "##### **Resumo da Arquitetura do Modelo**\n",
    "\n",
    "O comando `model.summary()` exibe um resumo detalhado da arquitetura do modelo, permitindo uma análise clara de sua estrutura e complexidade. Abaixo estão os elementos principais exibidos no resumo:\n",
    "\n",
    "---\n",
    "\n",
    "1. **Tipo de Camada e Nome**:\n",
    "   - Cada camada do modelo é listada com seu tipo (como `Conv2D`, `MaxPooling2D`, `Flatten`, `Dense`) e o nome atribuído automaticamente ou definido pelo usuário.\n",
    "   - Exemplo: A camada `conv2d` é do tipo `Conv2D`.\n",
    "\n",
    "2. **Forma de Saída**:\n",
    "   - A coluna \"Output Shape\" descreve o formato da saída de cada camada. Esse formato é exibido como uma tupla contendo:\n",
    "     - Número de amostras (geralmente `None`, pois não está definido no momento da criação do modelo).\n",
    "     - Altura e largura (dimensões espaciais das saídas).\n",
    "     - Número de canais (para camadas convolucionais).\n",
    "   - Exemplo: `(None, 28, 28, 32)` significa que a saída dessa camada possui 32 canais e dimensões espaciais de 28x28.\n",
    "\n",
    "3. **Número de Parâmetros**:\n",
    "   - A coluna \"Param #\" mostra o número total de parâmetros treináveis e não treináveis em cada camada:\n",
    "     - **Camadas Convolucionais**: Parâmetros incluem pesos dos filtros e vieses. Por exemplo:\n",
    "       - Para `conv2d` com 32 filtros de tamanho 3x3, o cálculo é `(3*3*1*32) + 32 = 320`.\n",
    "     - **Camadas Densas**: Parâmetros incluem pesos conectando todos os neurônios e vieses.\n",
    "\n",
    "4. **Parâmetros Totais**:\n",
    "   - **Total params**: Soma de todos os parâmetros do modelo.\n",
    "   - **Trainable params**: Parâmetros ajustáveis durante o treinamento.\n",
    "   - **Non-trainable params**: Parâmetros que não são atualizados durante o treinamento (não presentes neste modelo).\n",
    "\n",
    "---\n",
    "\n",
    "##### **Tabela Resumida do Modelo**\n",
    "\n",
    "| **Camada (tipo)**          | **Forma de Saída**       | **Param #**    |\n",
    "|----------------------------|--------------------------|----------------|\n",
    "| `conv2d` (Conv2D)          | (None, 28, 28, 32)      | 320            |\n",
    "| `max_pooling2d` (MaxPooling2D) | (None, 14, 14, 32)      | 0              |\n",
    "| `conv2d_1` (Conv2D)        | (None, 14, 14, 64)      | 18,496         |\n",
    "| `max_pooling2d_1` (MaxPooling2D) | (None, 7, 7, 64)        | 0              |\n",
    "| `conv2d_2` (Conv2D)        | (None, 7, 7, 128)       | 73,856         |\n",
    "| `max_pooling2d_2` (MaxPooling2D) | (None, 3, 3, 128)       | 0              |\n",
    "| `conv2d_3` (Conv2D)        | (None, 3, 3, 128)       | 147,584        |\n",
    "| `flatten` (Flatten)        | (None, 1152)            | 0              |\n",
    "| `dense` (Dense)            | (None, 128)             | 147,584        |\n",
    "| `dropout` (Dropout)        | (None, 128)             | 0              |\n",
    "| `dense_1` (Dense)          | (None, 10)              | 1,290          |\n",
    "\n",
    "---\n",
    "\n",
    "##### **Resumo de Parâmetros**\n",
    "- **Total params**: 389,130 (1.48 MB).\n",
    "- **Trainable params**: 389,130 (1.48 MB).\n",
    "- **Non-trainable params**: 0 (0.00 B).\n",
    "\n",
    "---\n",
    "\n",
    "Este resumo fornece uma visão geral clara da arquitetura do modelo, incluindo a estrutura das camadas, dimensões intermediárias e a quantidade de parâmetros ajustáveis durante o treinamento.\n",
    "\n"
   ]
  },
  {
   "cell_type": "markdown",
   "id": "c3e151bd-21a6-4894-8449-88b50393a46a",
   "metadata": {},
   "source": [
    "# 3. Compilar o Modelo"
   ]
  },
  {
   "cell_type": "markdown",
   "id": "70722667-a341-4972-86fd-b316254189e5",
   "metadata": {},
   "source": [
    "#### CÓDIGO:"
   ]
  },
  {
   "cell_type": "code",
   "execution_count": 6,
   "id": "4ee28ace-e7bf-4aa8-bcdb-f95582f4fd63",
   "metadata": {},
   "outputs": [],
   "source": [
    "model.compile(optimizer='adam',\n",
    "              loss='sparse_categorical_crossentropy',     \n",
    "              metrics=['accuracy'])"
   ]
  },
  {
   "cell_type": "markdown",
   "id": "92463aac-b195-4f7c-ac77-36b69cb18f61",
   "metadata": {
    "jp-MarkdownHeadingCollapsed": true
   },
   "source": [
    "#### EXPLICAÇÕES:"
   ]
  },
  {
   "cell_type": "markdown",
   "id": "a2de5f89-60c3-45b2-b99d-5da847165fad",
   "metadata": {
    "jp-MarkdownHeadingCollapsed": true
   },
   "source": [
    "##### **Compilação do Modelo**\n",
    "\n",
    "O comando `model.compile()` é utilizado para configurar o modelo antes do treinamento. Durante a compilação, são definidos o otimizador, a função de perda e as métricas a serem avaliadas. Aqui estão os detalhes de cada parâmetro:\n",
    "\n",
    "1. **Otimizador**:\n",
    "   - **`optimizer='adam'`**: O otimizador é um algoritmo responsável por ajustar os pesos da rede neural durante o treinamento. O Adam (Adaptive Moment Estimation) é um dos otimizadores mais populares e eficazes, combinando as vantagens do Gradient Descent com momentos e a otimização adaptativa dos parâmetros. Ele adapta as taxas de aprendizado para cada parâmetro com base em momentos de gradientes e no histórico das atualizações, o que o torna adequado para uma ampla variedade de problemas de treinamento.\n",
    "\n",
    "2. **Função de Perda**:\n",
    "   - **`loss='categorical_crossentropy'`**: A função de perda mede a discrepância entre as previsões do modelo e os rótulos verdadeiros. No caso de problemas de classificação multiclasse, como o MNIST, a entropia cruzada categórica é amplamente utilizada. Ela calcula a diferença entre a distribuição de probabilidade prevista pelo modelo (saída da função softmax) e a distribuição real dos rótulos. A minimização dessa função de perda durante o treinamento ajuda o modelo a aprender as classes corretas para cada exemplo.\n",
    "\n",
    "   - **`loss='sparse_categorical_crossentropy'`**: Essa função é semelhante à `categorical_crossentropy`, mas difere na forma como os rótulos são processados. Enquanto `categorical_crossentropy` requer que os rótulos estejam no formato one-hot encoded (uma matriz onde a classe correta é representada por 1 e as demais por 0), `sparse_categorical_crossentropy` aceita rótulos como inteiros simples, representando diretamente a classe correta. Essa função pode ser mais conveniente quando os dados de rótulos não estão em formato one-hot, simplificando o pipeline de pré-processamento.\n",
    "\n",
    "3. **Métricas**:\n",
    "   - **`metrics=['accuracy']`**: As métricas são usadas para monitorar o desempenho do modelo durante o treinamento e a avaliação. A acurácia é uma métrica comum que mede a proporção de previsões corretas em relação ao total de previsões feitas. Ao incluir `accuracy` nas métricas, você poderá acompanhar como a precisão do modelo melhora (ou não) a cada época de treinamento. Esta métrica é particularmente útil para problemas de classificação, fornecendo uma visão clara do desempenho do modelo.\n",
    "\n",
    "A compilação é um passo crucial que prepara o modelo para o processo de treinamento, garantindo que ele utilize o otimizador e a função de perda apropriados para o problema em questão. Essa configuração é essencial para que o processo de otimização funcione corretamente, orientando o modelo na direção de menor erro possível e, consequentemente, melhor desempenho."
   ]
  },
  {
   "cell_type": "markdown",
   "id": "97b44b2b-036c-4425-9a0f-f8008f2e64ca",
   "metadata": {
    "jp-MarkdownHeadingCollapsed": true
   },
   "source": [
    "#### EXPLICAÇÕES EXTRAS: (Otimizadores)"
   ]
  },
  {
   "cell_type": "markdown",
   "id": "6609a329-9fed-4b5c-aa3c-e409c67c3437",
   "metadata": {},
   "source": [
    "##### **Otimizadores em Redes Neurais**\n",
    "\n",
    "Escolher o otimizador adequado é crucial para o treinamento eficaz de redes neurais. Os otimizadores ajustam os pesos da rede para minimizar a função de perda, e diferentes otimizadores têm características distintas que podem influenciar a eficiência e o desempenho do treinamento.\n",
    "\n",
    "##### **Tipos de Otimizadores:**\n",
    "\n",
    "1. **Gradient Descent (GD)**\n",
    "   - **Batch Gradient Descent**: Calcula o gradiente da função de perda usando o conjunto de dados completo para cada atualização de peso. Pode ser lento e consumir muita memória para grandes conjuntos de dados.\n",
    "\n",
    "---\n",
    "\n",
    "2. **Stochastic Gradient Descent (SGD)**\n",
    "   - **SGD**: Atualiza os pesos com base em um único exemplo de treinamento por vez. Isso torna o treinamento mais rápido e menos oneroso em termos de memória, mas pode ser mais ruidoso e menos estável. É útil quando se lida com grandes conjuntos de dados.\n",
    "\n",
    "---\n",
    "\n",
    "3. **Mini-Batch Gradient Descent**\n",
    "   - **Mini-Batch SGD**: Atualiza os pesos com base em um único exemplo de treinamento por vez. Isso faz com que o treinamento seja mais rápido e menos oneroso em termos de memória, mas pode ser mais ruidoso e menos estável. É o método mais comum utilizado na prática.\n",
    "\n",
    "---\n",
    "\n",
    "4. **Momentum**\n",
    "   - **Momentum**: Adiciona um termo de \"momentum\" à atualização dos pesos, o que ajuda a acelerar o treinamento e a suavizar as oscilações. O momento é um parâmetro que acumula o gradiente das iterações anteriores.\n",
    "\n",
    "---\n",
    "\n",
    "5. **Nesterov Accelerated Gradient (NAG)**\n",
    "   - **NAG**: Uma variante do Momentum que realiza uma \"olhada à frente\" no gradiente para melhorar a convergência. Isso pode proporcionar uma convergência mais rápida e precisa.\n",
    "\n",
    "---\n",
    "\n",
    "6. **Adagrad**\n",
    "   - **Adagrad**: Ajusta a taxa de aprendizado para cada parâmetro com base na frequência das atualizações. Isso pode ajudar a lidar com parâmetros que são atualizados com menos frequência, mas pode levar a uma taxa de aprendizado que decai rapidamente.\n",
    "\n",
    "---\n",
    "\n",
    "7. **RMSprop**\n",
    "   - **RMSprop**: Modifica o Adagrad para reduzir o problema do decaimento rápido da taxa de aprendizado, ajustando a taxa de aprendizado com base em uma média móvel das magnitudes recentes dos gradientes. É eficaz para problemas de treinamento com dados ruidosos ou modelos com muitos parâmetros.\n",
    "\n",
    "---\n",
    "\n",
    "8. **Adam (Adaptive Moment Estimation)**\n",
    "   - **Adam**: Combina as ideias de Momentum e RMSprop. Utiliza estimativas de médias móveis dos gradientes e dos quadrados dos gradientes para adaptar a taxa de aprendizado para cada parâmetro. É amplamente utilizado devido à sua eficiência e à necessidade reduzida de ajuste de hiperparâmetros.\n",
    "\n",
    "---\n",
    "\n",
    "9. **AdaMax**\n",
    "   - **AdaMax**: Uma variante do Adam baseada na norma infinita. Pode ser útil em cenários específicos, oferecendo uma abordagem diferente para a adaptação da taxa de aprendizado.\n",
    "\n",
    "---\n",
    "\n",
    "10. **Nadam**\n",
    "    - **Nadam**: Combina Adam e NAG, fornecendo um método de otimização que incorpora tanto o momentum quanto o ajuste adaptativo da taxa de aprendizado.\n",
    "\n",
    "---\n",
    "\n",
    "##### **Como Escolher o Otimizador**\n",
    "\n",
    "1. **Natureza do Problema**:\n",
    "   - **Para problemas com grandes conjuntos de dados ou redes neurais profundas**, o Adam pode ser mais eficaz devido à sua capacidade de adaptar a taxa de aprendizado e acelerar a convergência.\n",
    "\n",
    "2. **Tipo de Rede Neural**:\n",
    "   - **Redes Neurais Convolucionais (CNNs)**: Adam é frequentemente utilizado devido ao seu desempenho superior e capacidade de lidar com gradientes em redes profundas.\n",
    "   - **Redes Neurais Recorrentes (RNNs)**: Adam ou RMSprop são frequentemente preferidos devido à natureza do treinamento das RNNs e suas propriedades.\n",
    "\n",
    "3. **Recursos Computacionais**:\n",
    "   - **Memória e Computação**: O SGD pode ser preferível se a memória e a capacidade computacional são limitadas.\n",
    "\n",
    "4. **Experiência e Experimentação**:\n",
    "   - **Experiência e Ajuste**: Frequentemente, é uma boa prática experimentar diferentes otimizadores e ajustar hiperparâmetros para encontrar o que melhor funciona para o problema específico.\n",
    "\n",
    "##### **Resumo**\n",
    "\n",
    "A escolha do otimizador pode impactar significativamente o treinamento e a performance do modelo. Enquanto o SGD é simples e eficiente, o Adam geralmente oferece uma convergência mais rápida e melhor desempenho para uma ampla gama de problemas. A escolha deve ser baseada nas características do problema, do modelo e dos recursos disponíveis.\n"
   ]
  },
  {
   "cell_type": "markdown",
   "id": "084a6b26-e254-4e65-b922-98d25b9f1932",
   "metadata": {
    "jp-MarkdownHeadingCollapsed": true
   },
   "source": [
    "#### EXPLICAÇÕES EXTRAS: (Função de Perda)"
   ]
  },
  {
   "cell_type": "markdown",
   "id": "29c7ede3-8795-483c-9664-26438782aa78",
   "metadata": {},
   "source": [
    "##### 1. **O Que é Função de Perda?**\n",
    "\n",
    "A função de perda é a fórmula que mede o quão bem o modelo está performando durante o treinamento, comparando as previsões do modelo com os valores reais (rótulos). Ela calcula uma diferença, erro ou \"perda\", que o modelo tenta minimizar. Durante o treinamento, o objetivo do modelo é ajustar os pesos e os parâmetros para minimizar essa perda, o que, em teoria, melhorará a precisão do modelo.\n",
    "\n",
    "##### 2. **Tipos de Função de Perda**\n",
    "\n",
    "Os tipos de funções de perda variam com base no tipo de problema que você está tentando resolver, como classificação binária, classificação multiclasse ou regressão.\n",
    "\n",
    "- **Classificação Binária**:\n",
    "  - **Binary Cross-Entropy (binary_crossentropy)**:\n",
    "    - Utilizada para problemas de classificação com duas classes. Mede a perda entre as probabilidades previstas pelo modelo e os rótulos binários (0 ou 1). \n",
    "    - É especialmente útil para modelos que utilizam a função de ativação `sigmoid` na camada de saída.\n",
    "\n",
    "---\n",
    "\n",
    "- **Classificação Multiclasse**:\n",
    "  - **Categorical Cross-Entropy (categorical_crossentropy)**:\n",
    "    - Usada quando os rótulos são representados como vetores one-hot (vetores binários onde apenas uma posição é 1, representando a classe correta). \n",
    "    - Mede a perda entre as probabilidades previstas e os vetores one-hot. \n",
    "    - Ideal para modelos com a função de ativação `softmax` na camada de saída.\n",
    "\n",
    "  - **Sparse Categorical Cross-Entropy (sparse_categorical_crossentropy)**:\n",
    "    - Semelhante à `categorical_crossentropy`, mas lida com rótulos inteiros em vez de vetores one-hot. \n",
    "    - É útil quando os rótulos são representados como números inteiros, economizando memória e processamento.\n",
    "\n",
    "---\n",
    "\n",
    "- **Regressão**:\n",
    "  - **Mean Squared Error (mean_squared_error)**:\n",
    "    - Usada para problemas de regressão onde o objetivo é prever valores contínuos. \n",
    "    - Mede a média dos quadrados das diferenças entre os valores previstos e os valores reais. \n",
    "    - É sensível a outliers, pois o erro é elevado ao quadrado.\n",
    "\n",
    "---\n",
    "\n",
    "  - **Mean Absolute Error (mean_absolute_error)**:\n",
    "    - Também utilizada em problemas de regressão, mas mede a média das diferenças absolutas entre os valores previstos e reais. \n",
    "    - É menos sensível a outliers comparado ao MSE.\n",
    "\n",
    "---\n",
    "\n",
    "##### 3. **Escolhendo a Função de Perda**\n",
    "\n",
    "- **Classificação Binária**: Utilize `binary_crossentropy` para medir o erro entre as previsões de probabilidade e os rótulos binários.\n",
    "- **Classificação Multiclasse**:\n",
    "  - **Rótulos One-Hot**: Utilize `categorical_crossentropy` para comparar as probabilidades previstas com os vetores one-hot dos rótulos.\n",
    "  - **Rótulos Inteiros**: Utilize `sparse_categorical_crossentropy` para lidar diretamente com rótulos inteiros.\n",
    "- **Regressão**:\n",
    "  - Use `mean_squared_error` se a precisão exata for importante e `mean_absolute_error` se a robustez a outliers for desejada.\n",
    "\n",
    "##### **Resumo**\n",
    "\n",
    "A função de perda é essencial para guiar o treinamento de modelos, pois indica o quanto o modelo está errando nas suas previsões. A escolha correta da função de perda é fundamental e deve corresponder ao tipo de problema e ao formato dos rótulos para garantir um treinamento eficaz e obter melhores resultados.\n"
   ]
  },
  {
   "cell_type": "markdown",
   "id": "9f81ba33-9665-4dce-a040-f2e292d34090",
   "metadata": {},
   "source": [
    "# 4. Treinar o Modelo"
   ]
  },
  {
   "cell_type": "markdown",
   "id": "3efe1fe6-b00b-4225-830e-de2b37fcca63",
   "metadata": {},
   "source": [
    "#### CÓDIGO:"
   ]
  },
  {
   "cell_type": "code",
   "execution_count": 8,
   "id": "0fc23eba-767a-423e-8497-7111574829e6",
   "metadata": {},
   "outputs": [
    {
     "name": "stdout",
     "output_type": "stream",
     "text": [
      "Epoch 1/10\n",
      "\u001b[1m844/844\u001b[0m \u001b[32m━━━━━━━━━━━━━━━━━━━━\u001b[0m\u001b[37m\u001b[0m \u001b[1m9s\u001b[0m 10ms/step - accuracy: 0.8407 - loss: 0.4833 - val_accuracy: 0.9865 - val_loss: 0.0419\n",
      "Epoch 2/10\n",
      "\u001b[1m844/844\u001b[0m \u001b[32m━━━━━━━━━━━━━━━━━━━━\u001b[0m\u001b[37m\u001b[0m \u001b[1m8s\u001b[0m 9ms/step - accuracy: 0.9823 - loss: 0.0614 - val_accuracy: 0.9905 - val_loss: 0.0301\n",
      "Epoch 3/10\n",
      "\u001b[1m844/844\u001b[0m \u001b[32m━━━━━━━━━━━━━━━━━━━━\u001b[0m\u001b[37m\u001b[0m \u001b[1m8s\u001b[0m 9ms/step - accuracy: 0.9873 - loss: 0.0422 - val_accuracy: 0.9905 - val_loss: 0.0341\n",
      "Epoch 4/10\n",
      "\u001b[1m844/844\u001b[0m \u001b[32m━━━━━━━━━━━━━━━━━━━━\u001b[0m\u001b[37m\u001b[0m \u001b[1m8s\u001b[0m 9ms/step - accuracy: 0.9896 - loss: 0.0328 - val_accuracy: 0.9907 - val_loss: 0.0320\n",
      "Epoch 5/10\n",
      "\u001b[1m844/844\u001b[0m \u001b[32m━━━━━━━━━━━━━━━━━━━━\u001b[0m\u001b[37m\u001b[0m \u001b[1m8s\u001b[0m 9ms/step - accuracy: 0.9924 - loss: 0.0265 - val_accuracy: 0.9930 - val_loss: 0.0292\n",
      "Epoch 6/10\n",
      "\u001b[1m844/844\u001b[0m \u001b[32m━━━━━━━━━━━━━━━━━━━━\u001b[0m\u001b[37m\u001b[0m \u001b[1m8s\u001b[0m 10ms/step - accuracy: 0.9939 - loss: 0.0208 - val_accuracy: 0.9923 - val_loss: 0.0272\n",
      "Epoch 7/10\n",
      "\u001b[1m844/844\u001b[0m \u001b[32m━━━━━━━━━━━━━━━━━━━━\u001b[0m\u001b[37m\u001b[0m \u001b[1m8s\u001b[0m 9ms/step - accuracy: 0.9955 - loss: 0.0141 - val_accuracy: 0.9925 - val_loss: 0.0280\n",
      "Epoch 8/10\n",
      "\u001b[1m844/844\u001b[0m \u001b[32m━━━━━━━━━━━━━━━━━━━━\u001b[0m\u001b[37m\u001b[0m \u001b[1m8s\u001b[0m 10ms/step - accuracy: 0.9967 - loss: 0.0123 - val_accuracy: 0.9915 - val_loss: 0.0293\n",
      "Epoch 9/10\n",
      "\u001b[1m844/844\u001b[0m \u001b[32m━━━━━━━━━━━━━━━━━━━━\u001b[0m\u001b[37m\u001b[0m \u001b[1m8s\u001b[0m 10ms/step - accuracy: 0.9949 - loss: 0.0172 - val_accuracy: 0.9928 - val_loss: 0.0352\n",
      "Epoch 10/10\n",
      "\u001b[1m844/844\u001b[0m \u001b[32m━━━━━━━━━━━━━━━━━━━━\u001b[0m\u001b[37m\u001b[0m \u001b[1m8s\u001b[0m 10ms/step - accuracy: 0.9969 - loss: 0.0107 - val_accuracy: 0.9942 - val_loss: 0.0314\n"
     ]
    }
   ],
   "source": [
    "history = model.fit(train_images, train_labels, \n",
    "                    epochs=10, \n",
    "                    batch_size=64, \n",
    "                    validation_split=0.1)"
   ]
  },
  {
   "cell_type": "markdown",
   "id": "f4060a7b-9a72-4af5-a88a-b3343c10c250",
   "metadata": {
    "jp-MarkdownHeadingCollapsed": true
   },
   "source": [
    "#### EXPLICAÇÕES:"
   ]
  },
  {
   "cell_type": "markdown",
   "id": "3060788d-14db-4c29-b353-16c182e0fcd2",
   "metadata": {
    "jp-MarkdownHeadingCollapsed": true
   },
   "source": [
    "##### **Treinamento do Modelo**\n",
    "\n",
    "- **`history =`**:\n",
    "   - `history` é uma variável que armazena o objeto retornado pelo método `fit()`. Esse objeto contém registros das métricas (como acurácia e perda) durante cada época de treinamento, tanto para o conjunto de treinamento quanto para o de validação. Ele é útil para analisar o desempenho do modelo após o treinamento.\n",
    "\n",
    "- **`model.fit(...)`**:\n",
    "   - O método `.fit()` realiza o treinamento do modelo, ajustando os pesos para minimizar a função de perda. Ele utiliza os dados de entrada (`train_images`) e os rótulos correspondentes (`train_labels`) para aprender os padrões e realizar previsões mais precisas. \n",
    "\n",
    "- **`train_images` e `train_labels`**:\n",
    "   - `train_images`: Conjunto de imagens utilizadas como entrada para o treinamento.\n",
    "   - `train_labels`: Conjunto de rótulos correspondentes às imagens, que servem como referência para o cálculo da perda e para guiar o treinamento.\n",
    "\n",
    "- **`epochs=10`**:\n",
    "   - Especifica o número de épocas de treinamento. Cada época corresponde a uma passagem completa por todo o conjunto de dados de treinamento. Aqui, o modelo será treinado por 10 épocas.\n",
    "\n",
    "- **`batch_size=64`**:\n",
    "   - Define o número de amostras processadas antes de atualizar os pesos do modelo. Neste caso, 64 imagens são processadas por vez. Isso ajuda a equilibrar o uso de memória e o desempenho do treinamento.\n",
    "\n",
    "- **`validation_split=0.1`**:\n",
    "   - Este parâmetro reserva 10% dos dados de treinamento para validação. Esses dados não são utilizados para ajustar os pesos, mas servem para avaliar o desempenho do modelo durante o treinamento. Isso é útil para monitorar se o modelo está generalizando bem.\n",
    "\n",
    "---\n",
    "\n",
    "##### **Métricas do Treinamento**\n",
    "\n",
    "1. **`accuracy:`**\n",
    "   - Mede a porcentagem de previsões corretas feitas pelo modelo em relação ao total de previsões durante o treinamento. Uma acurácia crescente indica que o modelo está aprendendo os padrões dos dados.\n",
    "\n",
    "2. **`loss:`**\n",
    "   - Representa a discrepância entre as previsões do modelo e os valores reais (rótulos). O objetivo do treinamento é minimizar essa métrica. Uma perda decrescente durante o treinamento indica que o modelo está melhorando.\n",
    "\n",
    "3. **`Validation Accuracy (Acurácia de Validação):`**\n",
    "   - Mede a porcentagem de previsões corretas feitas pelo modelo em relação aos dados de validação. Isso ajuda a verificar se o modelo está generalizando bem.\n",
    "\n",
    "4. **`Validation Loss (Perda de Validação):`**\n",
    "   - Mede a discrepância entre as previsões do modelo e os valores reais no conjunto de validação. Uma perda de validação decrescente indica boa generalização. Se a `val_loss` aumenta enquanto a perda de treinamento diminui, pode indicar overfitting.\n",
    "\n",
    "---\n",
    "\n",
    "##### **Interpretação das Métricas durante o Treinamento**\n",
    "\n",
    "1. **`Fase Inicial (Épocas Iniciais):`**\n",
    "   - **Accuracy e Loss:** A acurácia de treinamento pode ser baixa e a perda alta, pois o modelo está aprendendo os padrões iniciais dos dados.\n",
    "   - **Validation Accuracy e Validation Loss:** Essas métricas podem flutuar mais devido à menor quantidade de dados de validação, mas devem ser próximas das métricas de treinamento.\n",
    "\n",
    "2. **`Fase Intermediária:`**\n",
    "   - **Accuracy e Loss:** A acurácia de treinamento deve aumentar e a perda de treinamento deve diminuir à medida que o modelo aprende.\n",
    "   - **Validation Accuracy e Validation Loss:** Se essas métricas melhoram junto com as métricas de treinamento, o modelo está generalizando bem.\n",
    "\n",
    "3. **`Fase Tardia:`**\n",
    "   - **Overfitting:** Se a `accuracy` continua aumentando e a `loss` continua diminuindo, mas a `val_accuracy` se estabiliza ou piora e a `val_loss` começa a aumentar, isso indica overfitting. O modelo está memorizando os dados de treinamento, mas não está aprendendo a generalizar.\n",
    "   - **Underfitting:** Se as métricas de treinamento e validação permanecem baixas, o modelo pode estar underfitting, ou seja, incapaz de capturar os padrões dos dados devido a um modelo muito simples ou dados insuficientes.\n",
    "\n",
    "---\n",
    "\n",
    "##### **Código Exemplo**\n",
    "\n",
    "```python\n",
    "history = model.fit(\n",
    "    train_images,          # Dados de entrada para o treinamento\n",
    "    train_labels,          # Rótulos correspondentes\n",
    "    epochs=10,             # Número de épocas\n",
    "    batch_size=64,         # Tamanho do batch\n",
    "    validation_split=0.1   # 10% dos dados reservados para validação\n",
    ")\n"
   ]
  },
  {
   "cell_type": "markdown",
   "id": "ae5bda47-3ca6-4f26-8ffb-5de32000a93e",
   "metadata": {},
   "source": [
    "## 4.1 Resumo da Arquitetura após Compilar e Treinar"
   ]
  },
  {
   "cell_type": "code",
   "execution_count": 9,
   "id": "a37db79e-b55a-4d52-a442-3b32cafa4745",
   "metadata": {},
   "outputs": [
    {
     "data": {
      "text/html": [
       "<pre style=\"white-space:pre;overflow-x:auto;line-height:normal;font-family:Menlo,'DejaVu Sans Mono',consolas,'Courier New',monospace\"><span style=\"font-weight: bold\">Model: \"sequential\"</span>\n",
       "</pre>\n"
      ],
      "text/plain": [
       "\u001b[1mModel: \"sequential\"\u001b[0m\n"
      ]
     },
     "metadata": {},
     "output_type": "display_data"
    },
    {
     "data": {
      "text/html": [
       "<pre style=\"white-space:pre;overflow-x:auto;line-height:normal;font-family:Menlo,'DejaVu Sans Mono',consolas,'Courier New',monospace\">┏━━━━━━━━━━━━━━━━━━━━━━━━━━━━━━━━━━━━━━┳━━━━━━━━━━━━━━━━━━━━━━━━━━━━━┳━━━━━━━━━━━━━━━━━┓\n",
       "┃<span style=\"font-weight: bold\"> Layer (type)                         </span>┃<span style=\"font-weight: bold\"> Output Shape                </span>┃<span style=\"font-weight: bold\">         Param # </span>┃\n",
       "┡━━━━━━━━━━━━━━━━━━━━━━━━━━━━━━━━━━━━━━╇━━━━━━━━━━━━━━━━━━━━━━━━━━━━━╇━━━━━━━━━━━━━━━━━┩\n",
       "│ conv2d (<span style=\"color: #0087ff; text-decoration-color: #0087ff\">Conv2D</span>)                      │ (<span style=\"color: #00d7ff; text-decoration-color: #00d7ff\">None</span>, <span style=\"color: #00af00; text-decoration-color: #00af00\">28</span>, <span style=\"color: #00af00; text-decoration-color: #00af00\">28</span>, <span style=\"color: #00af00; text-decoration-color: #00af00\">32</span>)          │             <span style=\"color: #00af00; text-decoration-color: #00af00\">320</span> │\n",
       "├──────────────────────────────────────┼─────────────────────────────┼─────────────────┤\n",
       "│ max_pooling2d (<span style=\"color: #0087ff; text-decoration-color: #0087ff\">MaxPooling2D</span>)         │ (<span style=\"color: #00d7ff; text-decoration-color: #00d7ff\">None</span>, <span style=\"color: #00af00; text-decoration-color: #00af00\">14</span>, <span style=\"color: #00af00; text-decoration-color: #00af00\">14</span>, <span style=\"color: #00af00; text-decoration-color: #00af00\">32</span>)          │               <span style=\"color: #00af00; text-decoration-color: #00af00\">0</span> │\n",
       "├──────────────────────────────────────┼─────────────────────────────┼─────────────────┤\n",
       "│ conv2d_1 (<span style=\"color: #0087ff; text-decoration-color: #0087ff\">Conv2D</span>)                    │ (<span style=\"color: #00d7ff; text-decoration-color: #00d7ff\">None</span>, <span style=\"color: #00af00; text-decoration-color: #00af00\">14</span>, <span style=\"color: #00af00; text-decoration-color: #00af00\">14</span>, <span style=\"color: #00af00; text-decoration-color: #00af00\">64</span>)          │          <span style=\"color: #00af00; text-decoration-color: #00af00\">18,496</span> │\n",
       "├──────────────────────────────────────┼─────────────────────────────┼─────────────────┤\n",
       "│ max_pooling2d_1 (<span style=\"color: #0087ff; text-decoration-color: #0087ff\">MaxPooling2D</span>)       │ (<span style=\"color: #00d7ff; text-decoration-color: #00d7ff\">None</span>, <span style=\"color: #00af00; text-decoration-color: #00af00\">7</span>, <span style=\"color: #00af00; text-decoration-color: #00af00\">7</span>, <span style=\"color: #00af00; text-decoration-color: #00af00\">64</span>)            │               <span style=\"color: #00af00; text-decoration-color: #00af00\">0</span> │\n",
       "├──────────────────────────────────────┼─────────────────────────────┼─────────────────┤\n",
       "│ conv2d_2 (<span style=\"color: #0087ff; text-decoration-color: #0087ff\">Conv2D</span>)                    │ (<span style=\"color: #00d7ff; text-decoration-color: #00d7ff\">None</span>, <span style=\"color: #00af00; text-decoration-color: #00af00\">7</span>, <span style=\"color: #00af00; text-decoration-color: #00af00\">7</span>, <span style=\"color: #00af00; text-decoration-color: #00af00\">128</span>)           │          <span style=\"color: #00af00; text-decoration-color: #00af00\">73,856</span> │\n",
       "├──────────────────────────────────────┼─────────────────────────────┼─────────────────┤\n",
       "│ max_pooling2d_2 (<span style=\"color: #0087ff; text-decoration-color: #0087ff\">MaxPooling2D</span>)       │ (<span style=\"color: #00d7ff; text-decoration-color: #00d7ff\">None</span>, <span style=\"color: #00af00; text-decoration-color: #00af00\">3</span>, <span style=\"color: #00af00; text-decoration-color: #00af00\">3</span>, <span style=\"color: #00af00; text-decoration-color: #00af00\">128</span>)           │               <span style=\"color: #00af00; text-decoration-color: #00af00\">0</span> │\n",
       "├──────────────────────────────────────┼─────────────────────────────┼─────────────────┤\n",
       "│ conv2d_3 (<span style=\"color: #0087ff; text-decoration-color: #0087ff\">Conv2D</span>)                    │ (<span style=\"color: #00d7ff; text-decoration-color: #00d7ff\">None</span>, <span style=\"color: #00af00; text-decoration-color: #00af00\">3</span>, <span style=\"color: #00af00; text-decoration-color: #00af00\">3</span>, <span style=\"color: #00af00; text-decoration-color: #00af00\">128</span>)           │         <span style=\"color: #00af00; text-decoration-color: #00af00\">147,584</span> │\n",
       "├──────────────────────────────────────┼─────────────────────────────┼─────────────────┤\n",
       "│ flatten (<span style=\"color: #0087ff; text-decoration-color: #0087ff\">Flatten</span>)                    │ (<span style=\"color: #00d7ff; text-decoration-color: #00d7ff\">None</span>, <span style=\"color: #00af00; text-decoration-color: #00af00\">1152</span>)                │               <span style=\"color: #00af00; text-decoration-color: #00af00\">0</span> │\n",
       "├──────────────────────────────────────┼─────────────────────────────┼─────────────────┤\n",
       "│ dense (<span style=\"color: #0087ff; text-decoration-color: #0087ff\">Dense</span>)                        │ (<span style=\"color: #00d7ff; text-decoration-color: #00d7ff\">None</span>, <span style=\"color: #00af00; text-decoration-color: #00af00\">128</span>)                 │         <span style=\"color: #00af00; text-decoration-color: #00af00\">147,584</span> │\n",
       "├──────────────────────────────────────┼─────────────────────────────┼─────────────────┤\n",
       "│ dropout (<span style=\"color: #0087ff; text-decoration-color: #0087ff\">Dropout</span>)                    │ (<span style=\"color: #00d7ff; text-decoration-color: #00d7ff\">None</span>, <span style=\"color: #00af00; text-decoration-color: #00af00\">128</span>)                 │               <span style=\"color: #00af00; text-decoration-color: #00af00\">0</span> │\n",
       "├──────────────────────────────────────┼─────────────────────────────┼─────────────────┤\n",
       "│ dense_1 (<span style=\"color: #0087ff; text-decoration-color: #0087ff\">Dense</span>)                      │ (<span style=\"color: #00d7ff; text-decoration-color: #00d7ff\">None</span>, <span style=\"color: #00af00; text-decoration-color: #00af00\">10</span>)                  │           <span style=\"color: #00af00; text-decoration-color: #00af00\">1,290</span> │\n",
       "└──────────────────────────────────────┴─────────────────────────────┴─────────────────┘\n",
       "</pre>\n"
      ],
      "text/plain": [
       "┏━━━━━━━━━━━━━━━━━━━━━━━━━━━━━━━━━━━━━━┳━━━━━━━━━━━━━━━━━━━━━━━━━━━━━┳━━━━━━━━━━━━━━━━━┓\n",
       "┃\u001b[1m \u001b[0m\u001b[1mLayer (type)                        \u001b[0m\u001b[1m \u001b[0m┃\u001b[1m \u001b[0m\u001b[1mOutput Shape               \u001b[0m\u001b[1m \u001b[0m┃\u001b[1m \u001b[0m\u001b[1m        Param #\u001b[0m\u001b[1m \u001b[0m┃\n",
       "┡━━━━━━━━━━━━━━━━━━━━━━━━━━━━━━━━━━━━━━╇━━━━━━━━━━━━━━━━━━━━━━━━━━━━━╇━━━━━━━━━━━━━━━━━┩\n",
       "│ conv2d (\u001b[38;5;33mConv2D\u001b[0m)                      │ (\u001b[38;5;45mNone\u001b[0m, \u001b[38;5;34m28\u001b[0m, \u001b[38;5;34m28\u001b[0m, \u001b[38;5;34m32\u001b[0m)          │             \u001b[38;5;34m320\u001b[0m │\n",
       "├──────────────────────────────────────┼─────────────────────────────┼─────────────────┤\n",
       "│ max_pooling2d (\u001b[38;5;33mMaxPooling2D\u001b[0m)         │ (\u001b[38;5;45mNone\u001b[0m, \u001b[38;5;34m14\u001b[0m, \u001b[38;5;34m14\u001b[0m, \u001b[38;5;34m32\u001b[0m)          │               \u001b[38;5;34m0\u001b[0m │\n",
       "├──────────────────────────────────────┼─────────────────────────────┼─────────────────┤\n",
       "│ conv2d_1 (\u001b[38;5;33mConv2D\u001b[0m)                    │ (\u001b[38;5;45mNone\u001b[0m, \u001b[38;5;34m14\u001b[0m, \u001b[38;5;34m14\u001b[0m, \u001b[38;5;34m64\u001b[0m)          │          \u001b[38;5;34m18,496\u001b[0m │\n",
       "├──────────────────────────────────────┼─────────────────────────────┼─────────────────┤\n",
       "│ max_pooling2d_1 (\u001b[38;5;33mMaxPooling2D\u001b[0m)       │ (\u001b[38;5;45mNone\u001b[0m, \u001b[38;5;34m7\u001b[0m, \u001b[38;5;34m7\u001b[0m, \u001b[38;5;34m64\u001b[0m)            │               \u001b[38;5;34m0\u001b[0m │\n",
       "├──────────────────────────────────────┼─────────────────────────────┼─────────────────┤\n",
       "│ conv2d_2 (\u001b[38;5;33mConv2D\u001b[0m)                    │ (\u001b[38;5;45mNone\u001b[0m, \u001b[38;5;34m7\u001b[0m, \u001b[38;5;34m7\u001b[0m, \u001b[38;5;34m128\u001b[0m)           │          \u001b[38;5;34m73,856\u001b[0m │\n",
       "├──────────────────────────────────────┼─────────────────────────────┼─────────────────┤\n",
       "│ max_pooling2d_2 (\u001b[38;5;33mMaxPooling2D\u001b[0m)       │ (\u001b[38;5;45mNone\u001b[0m, \u001b[38;5;34m3\u001b[0m, \u001b[38;5;34m3\u001b[0m, \u001b[38;5;34m128\u001b[0m)           │               \u001b[38;5;34m0\u001b[0m │\n",
       "├──────────────────────────────────────┼─────────────────────────────┼─────────────────┤\n",
       "│ conv2d_3 (\u001b[38;5;33mConv2D\u001b[0m)                    │ (\u001b[38;5;45mNone\u001b[0m, \u001b[38;5;34m3\u001b[0m, \u001b[38;5;34m3\u001b[0m, \u001b[38;5;34m128\u001b[0m)           │         \u001b[38;5;34m147,584\u001b[0m │\n",
       "├──────────────────────────────────────┼─────────────────────────────┼─────────────────┤\n",
       "│ flatten (\u001b[38;5;33mFlatten\u001b[0m)                    │ (\u001b[38;5;45mNone\u001b[0m, \u001b[38;5;34m1152\u001b[0m)                │               \u001b[38;5;34m0\u001b[0m │\n",
       "├──────────────────────────────────────┼─────────────────────────────┼─────────────────┤\n",
       "│ dense (\u001b[38;5;33mDense\u001b[0m)                        │ (\u001b[38;5;45mNone\u001b[0m, \u001b[38;5;34m128\u001b[0m)                 │         \u001b[38;5;34m147,584\u001b[0m │\n",
       "├──────────────────────────────────────┼─────────────────────────────┼─────────────────┤\n",
       "│ dropout (\u001b[38;5;33mDropout\u001b[0m)                    │ (\u001b[38;5;45mNone\u001b[0m, \u001b[38;5;34m128\u001b[0m)                 │               \u001b[38;5;34m0\u001b[0m │\n",
       "├──────────────────────────────────────┼─────────────────────────────┼─────────────────┤\n",
       "│ dense_1 (\u001b[38;5;33mDense\u001b[0m)                      │ (\u001b[38;5;45mNone\u001b[0m, \u001b[38;5;34m10\u001b[0m)                  │           \u001b[38;5;34m1,290\u001b[0m │\n",
       "└──────────────────────────────────────┴─────────────────────────────┴─────────────────┘\n"
      ]
     },
     "metadata": {},
     "output_type": "display_data"
    },
    {
     "data": {
      "text/html": [
       "<pre style=\"white-space:pre;overflow-x:auto;line-height:normal;font-family:Menlo,'DejaVu Sans Mono',consolas,'Courier New',monospace\"><span style=\"font-weight: bold\"> Total params: </span><span style=\"color: #00af00; text-decoration-color: #00af00\">1,167,392</span> (4.45 MB)\n",
       "</pre>\n"
      ],
      "text/plain": [
       "\u001b[1m Total params: \u001b[0m\u001b[38;5;34m1,167,392\u001b[0m (4.45 MB)\n"
      ]
     },
     "metadata": {},
     "output_type": "display_data"
    },
    {
     "data": {
      "text/html": [
       "<pre style=\"white-space:pre;overflow-x:auto;line-height:normal;font-family:Menlo,'DejaVu Sans Mono',consolas,'Courier New',monospace\"><span style=\"font-weight: bold\"> Trainable params: </span><span style=\"color: #00af00; text-decoration-color: #00af00\">389,130</span> (1.48 MB)\n",
       "</pre>\n"
      ],
      "text/plain": [
       "\u001b[1m Trainable params: \u001b[0m\u001b[38;5;34m389,130\u001b[0m (1.48 MB)\n"
      ]
     },
     "metadata": {},
     "output_type": "display_data"
    },
    {
     "data": {
      "text/html": [
       "<pre style=\"white-space:pre;overflow-x:auto;line-height:normal;font-family:Menlo,'DejaVu Sans Mono',consolas,'Courier New',monospace\"><span style=\"font-weight: bold\"> Non-trainable params: </span><span style=\"color: #00af00; text-decoration-color: #00af00\">0</span> (0.00 B)\n",
       "</pre>\n"
      ],
      "text/plain": [
       "\u001b[1m Non-trainable params: \u001b[0m\u001b[38;5;34m0\u001b[0m (0.00 B)\n"
      ]
     },
     "metadata": {},
     "output_type": "display_data"
    },
    {
     "data": {
      "text/html": [
       "<pre style=\"white-space:pre;overflow-x:auto;line-height:normal;font-family:Menlo,'DejaVu Sans Mono',consolas,'Courier New',monospace\"><span style=\"font-weight: bold\"> Optimizer params: </span><span style=\"color: #00af00; text-decoration-color: #00af00\">778,262</span> (2.97 MB)\n",
       "</pre>\n"
      ],
      "text/plain": [
       "\u001b[1m Optimizer params: \u001b[0m\u001b[38;5;34m778,262\u001b[0m (2.97 MB)\n"
      ]
     },
     "metadata": {},
     "output_type": "display_data"
    }
   ],
   "source": [
    "model.summary()"
   ]
  },
  {
   "cell_type": "markdown",
   "id": "5dd9a3e2-f14b-4d4e-a6c9-968e571b02d4",
   "metadata": {},
   "source": [
    "## 4.2 Plotar Gráficos para Avaliar a Evolução do Treinamento"
   ]
  },
  {
   "cell_type": "code",
   "execution_count": 10,
   "id": "2fb55604-fac3-4419-9c8d-bc0331ad0f51",
   "metadata": {},
   "outputs": [],
   "source": [
    "history_dict = history.history\n",
    "\n",
    "history_df = pd.DataFrame(history_dict)"
   ]
  },
  {
   "cell_type": "code",
   "execution_count": 11,
   "id": "d1eea73e-1a4f-4c12-b689-55b7423eaef6",
   "metadata": {},
   "outputs": [
    {
     "data": {
      "image/png": "[encoded data removed]",
      "text/plain": [
       "<Figure size 1000x600 with 1 Axes>"
      ]
     },
     "metadata": {},
     "output_type": "display_data"
    }
   ],
   "source": [
    "fig = plt.figure(figsize=(10, 6)) \n",
    "plt.style.use('default')\n",
    "\n",
    "ax = fig.add_subplot(1, 1, 1)\n",
    "\n",
    "ax.plot(history_df['loss'], label='Loss', color='blue', linestyle='--', linewidth=1.5)\n",
    "ax.plot(history_df['val_loss'], label='Validation Loss', color='blue', linestyle='-', linewidth=1.5)\n",
    "ax.plot(history_df['accuracy'], label='Accuracy', color='green', linestyle='--', linewidth=1.5)\n",
    "ax.plot(history_df['val_accuracy'], label='Validation Accuracy', color='green', linestyle='-', linewidth=1.5)\n",
    "\n",
    "ax.set_title('Training and Validation Metrics', fontsize=14)\n",
    "ax.set_xlabel('Epoch', fontsize=12)\n",
    "ax.set_ylabel('Value', fontsize=12)\n",
    "\n",
    "ax.set_ylim(0, 1.0)\n",
    "ax.grid(True, which='both', linestyle='--', linewidth=0.5)\n",
    "ax.legend()\n",
    "plt.show()\n"
   ]
  },
  {
   "cell_type": "code",
   "execution_count": 12,
   "id": "55c32e11-8763-4bb2-a479-2e36a2f6fa61",
   "metadata": {},
   "outputs": [
    {
     "data": {
      "image/png": "[encoded data removed]",
      "text/plain": [
       "<Figure size 1200x600 with 2 Axes>"
      ]
     },
     "metadata": {},
     "output_type": "display_data"
    }
   ],
   "source": [
    "plt.figure(figsize=(12, 6))\n",
    "\n",
    "plt.style.use('default')\n",
    "\n",
    "plt.subplot(1, 2, 1)\n",
    "plt.plot(history_df['loss'], label='Loss', color='blue', linestyle='-', linewidth=2)\n",
    "plt.plot(history_df['val_loss'], label='Validation Loss', color='orange', linestyle='--', linewidth=2)\n",
    "plt.title('Loss')\n",
    "plt.xlabel('Epoch')\n",
    "plt.ylabel('Loss')\n",
    "plt.grid(True, which='both', linestyle='--', linewidth=0.5)\n",
    "plt.legend()\n",
    "\n",
    "plt.subplot(1, 2, 2)\n",
    "plt.plot(history_df['accuracy'], label='Accuracy', color='green', linestyle='-', linewidth=2)\n",
    "plt.plot(history_df['val_accuracy'], label='Validation Accuracy', color='red', linestyle='--', linewidth=2)\n",
    "plt.title('Accuracy')\n",
    "plt.xlabel('Epoch')\n",
    "plt.ylabel('Accuracy')\n",
    "plt.grid(True, which='both', linestyle='--', linewidth=0.5)\n",
    "plt.legend()\n",
    "\n",
    "plt.tight_layout()\n",
    "plt.show()\n"
   ]
  },
  {
   "cell_type": "markdown",
   "id": "d6ab0a9d-d559-4a2e-a509-2ea980765be2",
   "metadata": {},
   "source": [
    "## 5. Fazer Predições com o Modelo Treinado para Calcular as Métricas"
   ]
  },
  {
   "cell_type": "code",
   "execution_count": 13,
   "id": "8fd03bb1-46b9-497d-a9b3-cc3ff51133c9",
   "metadata": {},
   "outputs": [
    {
     "name": "stdout",
     "output_type": "stream",
     "text": [
      "\u001b[1m313/313\u001b[0m \u001b[32m━━━━━━━━━━━━━━━━━━━━\u001b[0m\u001b[37m\u001b[0m \u001b[1m1s\u001b[0m 2ms/step  \n"
     ]
    }
   ],
   "source": [
    "y_pred = model.predict(test_images)\n",
    "y_pred_classes = np.argmax(y_pred, axis=1)\n",
    "y_true = test_labels"
   ]
  },
  {
   "cell_type": "markdown",
   "id": "248406bd-f7f3-4fef-bb73-bbbeb1edae77",
   "metadata": {
    "jp-MarkdownHeadingCollapsed": true
   },
   "source": [
    "#### EXPLICAÇÕES:"
   ]
  },
  {
   "cell_type": "markdown",
   "id": "15c0110c-ac2e-406b-b7a6-951ea630c150",
   "metadata": {
    "jp-MarkdownHeadingCollapsed": true
   },
   "source": [
    "##### **Previsão das Classes no Conjunto de Teste**\n",
    "\n",
    "Após o treinamento do modelo, o próximo passo é utilizá-lo para fazer previsões no conjunto de teste. Este processo envolve várias etapas:\n",
    "\n",
    "1. **`y_pred = model_MNIST.predict(test_images)`**:\n",
    "   - **Objetivo**: Gera as previsões para o conjunto de imagens de teste.\n",
    "   - **Saída**: `y_pred` será uma matriz onde cada linha representa as probabilidades preditas para cada uma das classes, para cada imagem de teste.\n",
    "\n",
    "2. **`y_pred_classes = np.argmax(y_pred, axis=1)`**:\n",
    "   - **Objetivo**: Converte as probabilidades preditas para as classes reais.\n",
    "   - **`np.argmax`**: Seleciona o índice da classe com a maior probabilidade para cada imagem, produzindo um array `y_pred_classes` que contém a classe prevista (0-9) para cada imagem.\n",
    "\n",
    "3. **`y_true = np.argmax(test_labels, axis=1)`**:\n",
    "   - **Objetivo**: Converte as labels verdadeiras de one-hot encoding para as classes reais.\n",
    "   - **Saída**: `y_true` contém as classes verdadeiras (0-9) para cada imagem no conjunto de teste.\n",
    "\n",
    "Este procedimento permite a comparação direta entre as classes previstas pelo modelo e as classes verdadeiras, possibilitando a avaliação da performance do modelo em termos de métricas como acurácia, precisão, recall, entre outras.\n"
   ]
  },
  {
   "cell_type": "markdown",
   "id": "5fefbd1c-011e-48b4-9fb9-a93ab5dc4c2a",
   "metadata": {},
   "source": [
    "## 5.1 Calcular Principais Métricas de Avaliação: Acurácia, Precisão, Recall e F1-Score"
   ]
  },
  {
   "cell_type": "code",
   "execution_count": 14,
   "id": "6395257d-d2fd-4add-9960-8c5af246398e",
   "metadata": {},
   "outputs": [
    {
     "name": "stdout",
     "output_type": "stream",
     "text": [
      "Acurácia: 99.310%\n",
      "Precisão: 99.311%\n",
      "Recall: 99.310%\n",
      "F1-Score: 99.310%\n"
     ]
    }
   ],
   "source": [
    "accuracy = accuracy_score(y_true, y_pred_classes)\n",
    "precision = precision_score(y_true, y_pred_classes, average='weighted')\n",
    "recall = recall_score(y_true, y_pred_classes, average='weighted')\n",
    "f1 = f1_score(y_true, y_pred_classes, average='weighted')\n",
    "\n",
    "accuracy_percentage = accuracy * 100\n",
    "precision_percentage = precision * 100\n",
    "recall_percentage = recall * 100\n",
    "f1_percentage = f1 * 100\n",
    "\n",
    "print(f'Acurácia: {accuracy_percentage:.3f}%')\n",
    "print(f'Precisão: {precision_percentage:.3f}%')\n",
    "print(f'Recall: {recall_percentage:.3f}%')\n",
    "print(f'F1-Score: {f1_percentage:.3f}%')"
   ]
  },
  {
   "cell_type": "markdown",
   "id": "23a7723c-c60f-47b2-9ae6-bd4e504c5a6a",
   "metadata": {
    "jp-MarkdownHeadingCollapsed": true
   },
   "source": [
    "#### EXPLICAÇÕES:"
   ]
  },
  {
   "cell_type": "markdown",
   "id": "c0ec6856-8c2b-4f1b-9634-7aabc82ae99e",
   "metadata": {
    "jp-MarkdownHeadingCollapsed": true
   },
   "source": [
    "\n",
    "- **Acurácia**: Mede a proporção de previsões corretas sobre o total de previsões realizadas. É uma métrica geral que fornece uma ideia de quão frequentemente o modelo está correto.\n",
    "\n",
    "- **Precisão**: Mede a proporção de verdadeiros positivos (previsões corretas da classe positiva) sobre o total de positivos previstos. Em outras palavras, entre todas as instâncias que o modelo previu como positivas, quantas realmente são positivas.\n",
    "\n",
    "- **Recall**: Mede a proporção de verdadeiros positivos sobre o total de positivos reais. Isso avalia a capacidade do modelo de identificar todas as instâncias positivas reais.\n",
    "\n",
    "- **F1-Score**: É a média harmônica entre precisão e recall. O F1-Score fornece uma única métrica que combina ambas as métricas para avaliar o desempenho do modelo de forma equilibrada, especialmente útil quando há um desequilíbrio entre as classes.\n",
    "\n",
    "**Obs:** Calcular as métricas e multiplicá-las por 100 para apresentá-las em porcentagem e facilitar a interpretação.\n"
   ]
  },
  {
   "cell_type": "markdown",
   "id": "72cb0dba-3d82-42f1-9320-edc4069dbf57",
   "metadata": {},
   "source": [
    "## 5.2 Matriz de Confusão\n",
    "- A matriz de confusão mostra o número de previsões verdadeiras e falsas para cada classe."
   ]
  },
  {
   "cell_type": "code",
   "execution_count": 15,
   "id": "7f29c8a1-dc5e-449a-a71a-6492a7460cd5",
   "metadata": {},
   "outputs": [
    {
     "name": "stdout",
     "output_type": "stream",
     "text": [
      "Matriz de Confusão:\n",
      "[[ 978    0    0    0    1    0    0    1    0    0]\n",
      " [   0 1130    1    3    0    0    0    1    0    0]\n",
      " [   1    0 1025    0    0    0    0    5    1    0]\n",
      " [   0    0    0 1008    0    2    0    0    0    0]\n",
      " [   0    0    0    0  977    0    1    0    0    4]\n",
      " [   0    0    0    7    0  884    1    0    0    0]\n",
      " [   4    2    0    0    1    2  948    0    1    0]\n",
      " [   0    3    4    0    0    0    0 1018    1    2]\n",
      " [   2    0    1    2    0    1    0    0  967    1]\n",
      " [   0    0    0    1    4    4    0    2    2  996]]\n"
     ]
    }
   ],
   "source": [
    "conf_matrix = confusion_matrix(y_true, y_pred_classes)\n",
    "print('Matriz de Confusão:')\n",
    "print(conf_matrix)"
   ]
  },
  {
   "cell_type": "code",
   "execution_count": 16,
   "id": "20d8ebb6-34bd-4b19-ae68-31888e49e0e9",
   "metadata": {},
   "outputs": [
    {
     "data": {
      "image/png": "[encoded data removed]",
      "text/plain": [
       "<Figure size 1000x700 with 2 Axes>"
      ]
     },
     "metadata": {},
     "output_type": "display_data"
    }
   ],
   "source": [
    "plt.figure(figsize=(10, 7))\n",
    "sns.heatmap(conf_matrix, annot=True, fmt='d', cmap='Blues', \n",
    "            xticklabels=np.arange(10), yticklabels=np.arange(10))\n",
    "plt.xlabel('Predicted Labels')\n",
    "plt.ylabel('True Labels')\n",
    "plt.title('Confusion Matrix')\n",
    "plt.show()"
   ]
  },
  {
   "cell_type": "markdown",
   "id": "2dd41766-8eab-4e31-9b62-d48fa229bd2f",
   "metadata": {},
   "source": [
    "## 6. Salvar o Modelo em um Arquivo \".keras\""
   ]
  },
  {
   "cell_type": "markdown",
   "id": "9c310b84-ce83-4462-9206-917dd4ccf406",
   "metadata": {},
   "source": [
    "#### CÓDIGO:"
   ]
  },
  {
   "cell_type": "code",
   "execution_count": 17,
   "id": "dd67b759-df88-45d9-ade5-c21128ed12de",
   "metadata": {},
   "outputs": [],
   "source": [
    "model.save('modelo_MNIST(99.310%).keras')"
   ]
  },
  {
   "cell_type": "markdown",
   "id": "5a7f7209-1165-4216-816e-23af54dbf7b4",
   "metadata": {
    "jp-MarkdownHeadingCollapsed": true
   },
   "source": [
    "#### EXPLICAÇÕES:"
   ]
  },
  {
   "cell_type": "markdown",
   "id": "2bd7b5d4-45eb-4044-b8eb-16ecc6ef4a3f",
   "metadata": {},
   "source": [
    "##### **Salvamento do Modelo em um Arquivo `.keras`**\n",
    "\n",
    "Após o treinamento do modelo, é importante salvá-lo para reutilização futura sem a necessidade de re-treinamento. A função `model_MNIST.save('modelo_MNIST.keras')` realiza essa tarefa. Aqui está o que acontece com essa operação:\n",
    "\n",
    "1. **`model_MNIST.save('modelo_MNIST.keras')`**:\n",
    "   - **Objetivo**: Salva o modelo treinado em um arquivo com a extensão `.keras`.\n",
    "   - **Arquivo `.keras`**: Este é um formato específico para salvar e carregar modelos treinados usando a biblioteca Keras. Ele inclui a arquitetura do modelo, os pesos treinados e a configuração do compilador (se presente). \n",
    "   - **Localização**: O arquivo será salvo no diretório atual do projeto, a menos que um caminho completo seja especificado.\n",
    "   - **Reutilização**: Após salvar o modelo, você pode carregá-lo posteriormente usando `keras.models.load_model('model_Fashion_MNIST.keras')` para continuar o treinamento, fazer previsões ou avaliar o modelo sem precisar repetir o treinamento.\n",
    "\n",
    "Este processo facilita a preservação dos resultados do treinamento e a manutenção de consistência em avaliações futuras ou em diferentes sessões de trabalho.\n"
   ]
  }
 ],
 "metadata": {
  "kernelspec": {
   "display_name": "Python-3",
   "language": "python",
   "name": "python-3"
  },
  "language_info": {
   "codemirror_mode": {
    "name": "ipython",
    "version": 3
   },
   "file_extension": ".py",
   "mimetype": "text/x-python",
   "name": "python",
   "nbconvert_exporter": "python",
   "pygments_lexer": "ipython3",
   "version": "3.12.8"
  }
 },
 "nbformat": 4,
 "nbformat_minor": 5
}
